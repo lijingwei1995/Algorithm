{
 "cells": [
  {
   "cell_type": "markdown",
   "metadata": {},
   "source": [
    "题目描述\n",
    "把一个数组最开始的若干个元素搬到数组的末尾，我们称之为数组的旋转。\n",
    "输入一个非递减排序的数组的一个旋转，输出旋转数组的最小元素。\n",
    "例如数组{3,4,5,1,2}为{1,2,3,4,5}的一个旋转，该数组的最小值为1。\n",
    "NOTE：给出的所有元素都大于0，若数组大小为0，请返回0"
   ]
  },
  {
   "cell_type": "code",
   "execution_count": null,
   "metadata": {},
   "outputs": [],
   "source": [
    "def minNumberInRotateArray(rotateArray):\n",
    "    L = len(rotateArray)\n",
    "    if L == 0:\n",
    "        return 0\n",
    "    i = 0\n",
    "    while i < L - 1:\n",
    "        # 寻找一个下降\n",
    "        if rotateArray[i] > rotateArray[i+1]:\n",
    "            break\n",
    "        i += 1\n",
    "    if i < L - 1:\n",
    "        return rotateArray[i+1]\n",
    "    else:\n",
    "        return rotateArray[0]"
   ]
  }
 ],
 "metadata": {
  "kernelspec": {
   "display_name": "Python 3",
   "language": "python",
   "name": "python3"
  },
  "language_info": {
   "codemirror_mode": {
    "name": "ipython",
    "version": 3
   },
   "file_extension": ".py",
   "mimetype": "text/x-python",
   "name": "python",
   "nbconvert_exporter": "python",
   "pygments_lexer": "ipython3",
   "version": "3.7.4"
  }
 },
 "nbformat": 4,
 "nbformat_minor": 2
}
