{
 "cells": [
  {
   "cell_type": "markdown",
   "metadata": {},
   "source": [
    "# 二维数组中的查找\n",
    "https://www.nowcoder.com/practice/abc3fe2ce8e146608e868a70efebf62e\n",
    "\n",
    "题目描述\n",
    "在一个二维数组中（每个一维数组的长度相同），每一行都按照从左到右递增的顺序排序，每一列都按照从上到下递增的顺序排序。请完成一个函数，输入这样的一个二维数组和一个整数，判断数组中是否含有该整数。\n"
   ]
  },
  {
   "cell_type": "code",
   "execution_count": null,
   "metadata": {},
   "outputs": [],
   "source": [
    "def Find(target, array):\n",
    "    # 我们可以根据两条信息来遍历：\n",
    "    # 1.从左到右是递增的\n",
    "    # 2.从上到下是递增的\n",
    "    \n",
    "    # 先获得两个维度的长度\n",
    "    dim0 = len(array) #　列\n",
    "    if dim0 == 0:\n",
    "        return None\n",
    "    dim1 = len(array[0])　# 行\n",
    "    \n",
    "    # 外层循环判断\n",
    "    j = 0\n",
    "    while j < dim0:\n",
    "        # 先判断上下关系\n",
    "        "
   ]
  }
 ],
 "metadata": {
  "kernelspec": {
   "display_name": "Python 3",
   "language": "python",
   "name": "python3"
  },
  "language_info": {
   "codemirror_mode": {
    "name": "ipython",
    "version": 3
   },
   "file_extension": ".py",
   "mimetype": "text/x-python",
   "name": "python",
   "nbconvert_exporter": "python",
   "pygments_lexer": "ipython3",
   "version": "3.7.4"
  }
 },
 "nbformat": 4,
 "nbformat_minor": 2
}
