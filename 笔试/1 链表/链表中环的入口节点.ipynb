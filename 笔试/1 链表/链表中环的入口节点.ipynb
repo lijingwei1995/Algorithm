{
 "cells": [
  {
   "cell_type": "markdown",
   "metadata": {},
   "source": [
    "# 链表中环的入口节点\n",
    "https://www.nowcoder.com/practice/253d2c59ec3e4bc68da16833f79a38e4\n",
    "\n",
    "题目描述\n",
    "给一个链表，若其中包含环，请找出该链表的环的入口结点，否则，输出null。\n"
   ]
  },
  {
   "cell_type": "code",
   "execution_count": 1,
   "metadata": {},
   "outputs": [],
   "source": [
    "class ListNode:\n",
    "    def __init__(self, x=None):\n",
    "        self.val = x\n",
    "        self.next = None\n",
    "        \n"
   ]
  },
  {
   "cell_type": "code",
   "execution_count": 2,
   "metadata": {},
   "outputs": [],
   "source": [
    "def EntryNodeOfLoop(pHead):\n",
    "    p = pHead\n",
    "    node_set = set()\n",
    "    while p:\n",
    "        if p not in node_set:\n",
    "            node_set.add(p)\n",
    "            p = p.next\n",
    "        else:\n",
    "            return p\n",
    "    \n",
    "    return p"
   ]
  },
  {
   "cell_type": "code",
   "execution_count": null,
   "metadata": {},
   "outputs": [],
   "source": []
  }
 ],
 "metadata": {
  "kernelspec": {
   "display_name": "Python 3",
   "language": "python",
   "name": "python3"
  },
  "language_info": {
   "codemirror_mode": {
    "name": "ipython",
    "version": 3
   },
   "file_extension": ".py",
   "mimetype": "text/x-python",
   "name": "python",
   "nbconvert_exporter": "python",
   "pygments_lexer": "ipython3",
   "version": "3.7.4"
  }
 },
 "nbformat": 4,
 "nbformat_minor": 2
}
